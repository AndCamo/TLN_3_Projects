{
 "cells": [
  {
   "cell_type": "code",
   "id": "initial_id",
   "metadata": {
    "collapsed": true,
    "ExecuteTime": {
     "end_time": "2025-09-01T20:41:42.460070Z",
     "start_time": "2025-09-01T20:41:40.960390Z"
    }
   },
   "source": [
    "from nltk.tokenize import word_tokenize\n",
    "from nltk.corpus import stopwords\n",
    "from nltk.stem import WordNetLemmatizer\n",
    "from nltk.stem.snowball import SnowballStemmer\n",
    "from sklearn.metrics.pairwise import cosine_similarity\n",
    "from prettytable import PrettyTable\n",
    "\n",
    "\n",
    "import string\n",
    "import pandas as pd\n",
    "\n",
    "\n",
    "definitions = pd.read_csv(\"data/definizioni_column.csv\")\n",
    "\n",
    "CONCEPTS = [concept for concept in definitions.columns]"
   ],
   "outputs": [],
   "execution_count": 1
  },
  {
   "metadata": {
    "ExecuteTime": {
     "end_time": "2025-09-01T20:41:42.475582Z",
     "start_time": "2025-09-01T20:41:42.471381Z"
    }
   },
   "cell_type": "code",
   "source": [
    "def preprocess_text(text):\n",
    "    # Tokenize and convert to lowercase\n",
    "    tokens = word_tokenize(text.lower())\n",
    "\n",
    "    # Remove stopwords and punctuation\n",
    "    stop_words = set(stopwords.words('italian'))\n",
    "    tokens = [token for token in tokens if token not in stop_words and token not in string.punctuation]\n",
    "\n",
    "    # Stemming\n",
    "    stemmer = SnowballStemmer(\"italian\")\n",
    "\n",
    "    tokens = [stemmer.stem(token) for token in tokens]\n",
    "\n",
    "    return ' '.join(tokens)"
   ],
   "id": "73219472014c05cb",
   "outputs": [],
   "execution_count": 2
  },
  {
   "metadata": {},
   "cell_type": "markdown",
   "source": "***simlex value: terms overlap between definitions***",
   "id": "affa1da1ec18621d"
  },
  {
   "metadata": {
    "ExecuteTime": {
     "end_time": "2025-09-01T20:41:43.894978Z",
     "start_time": "2025-09-01T20:41:42.480906Z"
    }
   },
   "cell_type": "code",
   "source": [
    "\n",
    "results = []\n",
    "\n",
    "for concept in CONCEPTS:\n",
    "\n",
    "    # get all the defition for the concept\n",
    "    concept_definitions = definitions[concept].to_list()\n",
    "    simsem_values = {}\n",
    "\n",
    "    # compute the simlex value for each pair of definitions\n",
    "    for index1, definition1 in enumerate(concept_definitions):\n",
    "        for index2, definition2 in enumerate(concept_definitions):\n",
    "            set1 = set(preprocess_text(definition1).split(\" \"))\n",
    "            set2 = set(preprocess_text(definition2).split(\" \"))\n",
    "\n",
    "            intersection = len(set1.intersection(set2))\n",
    "            union = len(set1.union(set2))\n",
    "            key = tuple(sorted([index1, index2]))\n",
    "\n",
    "            simsem_values[key] = intersection / union\n",
    "\n",
    "    # Print all SimLex Values Sorted\n",
    "    # print(f\"Values of {concept}:\")\n",
    "    # print(sorted(simsem_values.items(), key=lambda x:x[1], reverse=True))\n",
    "\n",
    "    simlex_sum = 0\n",
    "    for simlex_value in simsem_values.values():\n",
    "        simlex_sum += simlex_value\n",
    "\n",
    "    percentage = round((simlex_sum / len(simsem_values)) * 100, 2)\n",
    "\n",
    "\n",
    "    results.append(percentage)\n",
    "\n",
    "print(\"---AGGREGATE SIMLEX VALUES---\")\n",
    "table = PrettyTable(field_names=CONCEPTS)\n",
    "table.add_row(results)\n",
    "print(table)\n",
    "\n",
    "\n"
   ],
   "id": "378281594bc3ce6b",
   "outputs": [
    {
     "name": "stdout",
     "output_type": "stream",
     "text": [
      "---AGGREGATE SIMLEX VALUES---\n",
      "+---------------+-----------------+--------------+---------------+\n",
      "| Pantalone[CG] | Microscopio[CS] | Pericolo[AG] | Euristica[AS] |\n",
      "+---------------+-----------------+--------------+---------------+\n",
      "|     22.91     |      18.43      |    15.36     |      9.14     |\n",
      "+---------------+-----------------+--------------+---------------+\n"
     ]
    }
   ],
   "execution_count": 3
  },
  {
   "metadata": {},
   "cell_type": "markdown",
   "source": "***simsem value: cosine similarity between sentence embeddings***",
   "id": "72aa130481bfc813"
  },
  {
   "metadata": {
    "ExecuteTime": {
     "end_time": "2025-09-01T20:41:50.190907Z",
     "start_time": "2025-09-01T20:41:43.992973Z"
    }
   },
   "cell_type": "code",
   "source": [
    "\n",
    "results = []\n",
    "\n",
    "for concept in CONCEPTS:\n",
    "\n",
    "    # get all the defition for the concept\n",
    "    concept_definitions = definitions[concept].to_list()\n",
    "\n",
    "    from sentence_transformers import SentenceTransformer\n",
    "    model = SentenceTransformer(\"thenlper/gte-small\", cache_folder=\"model\", local_files_only = True)\n",
    "    embeddings = model.encode(concept_definitions, show_progress_bar=True, random_state=42)\n",
    "\n",
    "    simsem_values = {}\n",
    "\n",
    "    for index1, embedding1 in enumerate(embeddings):\n",
    "        for index2, embedding2 in enumerate(embeddings):\n",
    "            key = tuple(sorted([f\"P{index1}\", f\"P{index2}\"]))\n",
    "            simsem_values[key] = cosine_similarity([embedding1], [embedding2]).tolist()[0][0]\n",
    "\n",
    "    simsem_sum = 0\n",
    "    for simsem_value in simsem_values.values():\n",
    "        simsem_sum += simsem_value\n",
    "\n",
    "    percentage = round((simsem_sum / len(simsem_values)) * 100, 2)\n",
    "    results.append(percentage)\n",
    "\n",
    "print(\"---AGGREGATE SIMSEM VALUES---\")\n",
    "table = PrettyTable(field_names=CONCEPTS)\n",
    "table.add_row(results)\n",
    "print(table)\n",
    "\n",
    "\n",
    "\n"
   ],
   "id": "7ddc585502bd77d1",
   "outputs": [
    {
     "name": "stderr",
     "output_type": "stream",
     "text": [
      "/Users/andrea/Desktop/UNIVERSITÀ/CORSI/Tecnologie del Linguaggio Naturale /NLP [3]/Esercitazioni/venv/lib/python3.13/site-packages/tqdm/auto.py:21: TqdmWarning: IProgress not found. Please update jupyter and ipywidgets. See https://ipywidgets.readthedocs.io/en/stable/user_install.html\n",
      "  from .autonotebook import tqdm as notebook_tqdm\n",
      "Batches: 100%|██████████| 2/2 [00:00<00:00,  2.34it/s]\n",
      "Batches: 100%|██████████| 2/2 [00:00<00:00, 11.11it/s]\n",
      "Batches: 100%|██████████| 2/2 [00:00<00:00,  7.79it/s]\n",
      "Batches: 100%|██████████| 2/2 [00:00<00:00, 22.37it/s]\n"
     ]
    },
    {
     "name": "stdout",
     "output_type": "stream",
     "text": [
      "---AGGREGATE SIMSEM VALUES---\n",
      "+---------------+-----------------+--------------+---------------+\n",
      "| Pantalone[CG] | Microscopio[CS] | Pericolo[AG] | Euristica[AS] |\n",
      "+---------------+-----------------+--------------+---------------+\n",
      "|     87.83     |      88.24      |    86.35     |     85.15     |\n",
      "+---------------+-----------------+--------------+---------------+\n"
     ]
    }
   ],
   "execution_count": 4
  }
 ],
 "metadata": {
  "kernelspec": {
   "display_name": "Python 3",
   "language": "python",
   "name": "python3"
  },
  "language_info": {
   "codemirror_mode": {
    "name": "ipython",
    "version": 2
   },
   "file_extension": ".py",
   "mimetype": "text/x-python",
   "name": "python",
   "nbconvert_exporter": "python",
   "pygments_lexer": "ipython2",
   "version": "2.7.6"
  }
 },
 "nbformat": 4,
 "nbformat_minor": 5
}
