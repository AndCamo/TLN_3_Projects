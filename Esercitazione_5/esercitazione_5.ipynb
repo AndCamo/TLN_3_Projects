{
 "cells": [
  {
   "cell_type": "code",
   "id": "initial_id",
   "metadata": {
    "collapsed": true,
    "ExecuteTime": {
     "end_time": "2025-09-08T08:24:59.966250Z",
     "start_time": "2025-09-08T08:24:58.271469Z"
    }
   },
   "source": [
    "from google import genai\n",
    "import dotenv\n",
    "from google.genai.types import GenerateContentConfig, HttpOptions\n",
    "\n",
    "GEMMA_KEY = dotenv.get_key(\".env\", \"GEMMA_KEY\")\n",
    "\n",
    "client = genai.Client(api_key=GEMMA_KEY)\n",
    "\n",
    "prompt_template = \"\"\"\n",
    "        You are an assistant that receives topics in the form of weighted word lists.\n",
    "        Each topic represents a set of related words.\n",
    "        Your task is to propose a single concise label (1–3 words)\n",
    "        that best describes the theme of the topic.\n",
    "\n",
    "        Make sure your answers are consistent with any previous labels or answers you have provided in this session.\n",
    "\n",
    "\n",
    "        Example:\n",
    "        Input: \"baseball:0.06, game:0.06, sport:0.05, player:0.04, golf:0.03\"\n",
    "        Output: \"Sport\"\n",
    "\n",
    "\n",
    "        Reply with a single topic label.\n",
    "\n",
    "        Now label the following topic:\n",
    "        {topic}\n",
    "    \"\"\"\n",
    "\n",
    "\n",
    "\n",
    "\n",
    "t = \"weight:0.06, diet:0.054, food:0.041, health: 0.039, exercise:0.030\"\n",
    "\n",
    "response = client.models.generate_content(\n",
    "    model=\"gemma-3-27b-it\",\n",
    "    contents=prompt_template.format(topic=t),\n",
    ")\n",
    "\n",
    "print(response.text)\n",
    "\n",
    "\n",
    "\n",
    "\n",
    "# — Topic 0: god:0.047, life:0.035, bible:0.023, book: 0.022, jesus:0.022\n",
    "# — Topic 1: dog:0.051, cat:0.029, little:0.025, book: 0.028, child:0.022\n",
    "# — Topic 2: american:0.028, political:0.025, president:0.023, america: 0.02, state:0.019\n",
    "# — Topic 3: murder:0.03, killer:0.025, case:0.02, crime: 0.019, one:0.018\n",
    "# — Topic 4: life:0.029, love:0.026, friend:0.022, novel: 0.021, new:0.020\n",
    "# — Topic 7: project:0.037, home:0.037, step:0.036, design: 0.035, color:0.035\n",
    "# — Topic 8: war:0.063, military:0.023, soldier:0.022, world: 0.021, battle:0.019\n",
    "# — Topic 10: child:0.081, parent:0.071, parenting:0.027, family: 0.025, book:0.025\n",
    "# — Topic 11: weight:0.06, diet:0.054, food:0.041, health: 0.039, exercise:0.030\n",
    "# — Topic 12: baseball:0.06, game:0.06, sport:0.05, player:0.04, golf:0.03\n",
    "# — Topic 13: vampire:0.043, world:0.023, evil:0.022, magic:0.021, must:0.020\n",
    "# — Topic 14: map:0.046, guide:0.045, travel:0.042, city:0.029, hotel:0.028\n"
   ],
   "outputs": [
    {
     "name": "stdout",
     "output_type": "stream",
     "text": [
      "Healthy Living\n"
     ]
    }
   ],
   "execution_count": 1
  },
  {
   "metadata": {},
   "cell_type": "code",
   "source": [
    "\n",
    "import pandas as pd\n",
    "# System prompt\n",
    "system_message = {\n",
    "    \"role\": \"system\",\n",
    "    \"content\": \"\"\"\n",
    "        Sei un assistente intelligente specializzato in ricerca onomasiologica, il che significa che il tuo compito è identificare la parola più appropriata da associare ad una definizione.\n",
    "        Rispondi solo con la parola stessa, senza alcuna spiegazione aggiuntiva.\n",
    "    \"\"\"\n",
    "}\n",
    "\n",
    "definitions = pd.read_csv(\"definizioni_column.csv\")\n",
    "\n",
    "definitions = definitions[\"Microscopio[CS]\"].tolist()\n",
    "\n",
    "\n",
    "correct_labeling = 0\n",
    "\n",
    "for definizione in definitions:\n",
    "    prompt = [system_message]\n",
    "\n",
    "    user_message = {\n",
    "        \"role\": \"user\",\n",
    "        \"content\": f\"Individua la parola corrispondente alla seguente definizione:\\n'{definizione}'\"\n",
    "    }\n",
    "    prompt.append(user_message)\n",
    "\n",
    "    try:\n",
    "        response = client.models.generate_content(\n",
    "            model=\"gemma-3-27b-it\",\n",
    "            contents=str(prompt)\n",
    "        )\n",
    "    except Exception as e:\n",
    "        break\n",
    "\n",
    "\n",
    "    result = response.text\n",
    "\n",
    "    print(f\"Definizione: {definizione}\\nParola: {result}\\n\")\n",
    "    \n",
    "    if result.strip() == 'Microscopio':\n",
    "        correct_labeling += 1\n",
    "\n",
    "    \n",
    "print(correct_labeling)\n",
    "print(f\"Definizioni corrette: {correct_labeling}/{len(definitions)}\")\n"
   ],
   "id": "5ef66dc645ec88f1",
   "outputs": [],
   "execution_count": null
  }
 ],
 "metadata": {
  "kernelspec": {
   "display_name": "Python 3",
   "language": "python",
   "name": "python3"
  },
  "language_info": {
   "codemirror_mode": {
    "name": "ipython",
    "version": 2
   },
   "file_extension": ".py",
   "mimetype": "text/x-python",
   "name": "python",
   "nbconvert_exporter": "python",
   "pygments_lexer": "ipython2",
   "version": "2.7.6"
  }
 },
 "nbformat": 4,
 "nbformat_minor": 5
}
